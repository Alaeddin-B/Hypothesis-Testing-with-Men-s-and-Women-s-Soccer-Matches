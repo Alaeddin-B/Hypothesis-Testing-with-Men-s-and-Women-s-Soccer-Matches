{
 "cells": [
  {
   "cell_type": "markdown",
   "id": "3ed0edb2-696b-49ab-9db0-681defcce695",
   "metadata": {},
   "source": [
    "![A soccer pitch for an international match.](soccer-pitch.jpg)\n",
    "\n",
    "You're working as a sports journalist at a major online sports media company, specializing in soccer analysis and reporting. You've been watching both men's and women's international soccer matches for a number of years, and your gut instinct tells you that more goals are scored in women's international football matches than men's. This would make an interesting investigative article that your subscribers are bound to love, but you'll need to perform a valid statistical hypothesis test to be sure!\n",
    "\n",
    "While scoping this project, you acknowledge that the sport has changed a lot over the years, and performances likely vary a lot depending on the tournament, so you decide to limit the data used in the analysis to only official `FIFA World Cup` matches (not including qualifiers) since `2002-01-01`.\n",
    "\n",
    "You create two datasets containing the results of every official men's and women's international football match since the 19th century, which you scraped from a reliable online source. This data is stored in two CSV files: `women_results.csv` and `men_results.csv`.\n",
    "\n",
    "The question you are trying to determine the answer to is:\n",
    "\n",
    "> Are more goals scored in women's international soccer matches than men's?\n",
    "\n",
    "You assume a **10% significance level**, and use the following null and alternative hypotheses:\n",
    "\n",
    "$H_0$ : The mean number of goals scored in women's international soccer matches is the same as men's.\n",
    "\n",
    "$H_A$ : The mean number of goals scored in women's international soccer matches is greater than men's."
   ]
  },
  {
   "cell_type": "code",
   "execution_count": 77,
   "id": "84a3c4c8-534b-4d1a-9919-17e05208b2ca",
   "metadata": {
    "executionCancelledAt": null,
    "executionTime": 86,
    "lastExecutedAt": 1758120882501,
    "lastExecutedByKernel": "aac40e60-7a7d-49ff-b3c5-015a4e20652d",
    "lastScheduledRunId": null,
    "lastSuccessfullyExecutedCode": "# Start your code here!\nimport pandas as pd\nmen_results_df = pd.read_csv(\"men_results.csv\")\nwomen_results_df = pd.read_csv(\"women_results.csv\")\n\nmen_results_df.info()",
    "outputsMetadata": {
     "0": {
      "height": 500,
      "tableState": {},
      "type": "dataFrame"
     }
    }
   },
   "outputs": [
    {
     "name": "stdout",
     "output_type": "stream",
     "text": [
      "         date home_team away_team  home_score  away_score tournament\n",
      "0  1872-11-30  Scotland   England           0           0   Friendly\n",
      "1  1873-03-08   England  Scotland           4           2   Friendly\n",
      "2  1874-03-07  Scotland   England           2           1   Friendly\n",
      "3  1875-03-06   England  Scotland           2           2   Friendly\n",
      "4  1876-03-04  Scotland   England           3           0   Friendly\n",
      "         date home_team  away_team  home_score  away_score        tournament\n",
      "0  1969-11-01     Italy     France           1           0              Euro\n",
      "1  1969-11-01   Denmark    England           4           3              Euro\n",
      "2  1969-11-02   England     France           2           0              Euro\n",
      "3  1969-11-02     Italy    Denmark           3           1              Euro\n",
      "4  1975-08-25  Thailand  Australia           3           2  AFC Championship\n"
     ]
    }
   ],
   "source": [
    "# Start your code here!\n",
    "import pandas as pd\n",
    "import pingouin\n",
    "import scipy.stats as stats\n",
    "\n",
    "alpha = 0.1\n",
    "\n",
    "men_results_df = pd.read_csv(\"men_results.csv\", index_col=0)\n",
    "women_results_df = pd.read_csv(\"women_results.csv\", index_col=0)\n",
    "\n",
    "print(men_results_df.head())\n",
    "print(women_results_df.head())"
   ]
  },
  {
   "cell_type": "code",
   "execution_count": 78,
   "id": "97d8309c",
   "metadata": {},
   "outputs": [
    {
     "name": "stdout",
     "output_type": "stream",
     "text": [
      "<class 'pandas.core.frame.DataFrame'>\n",
      "Index: 44353 entries, 0 to 44352\n",
      "Data columns (total 6 columns):\n",
      " #   Column      Non-Null Count  Dtype \n",
      "---  ------      --------------  ----- \n",
      " 0   date        44353 non-null  object\n",
      " 1   home_team   44353 non-null  object\n",
      " 2   away_team   44353 non-null  object\n",
      " 3   home_score  44353 non-null  int64 \n",
      " 4   away_score  44353 non-null  int64 \n",
      " 5   tournament  44353 non-null  object\n",
      "dtypes: int64(2), object(4)\n",
      "memory usage: 2.4+ MB\n"
     ]
    }
   ],
   "source": [
    "men_results_df.info()"
   ]
  },
  {
   "cell_type": "code",
   "execution_count": 79,
   "id": "15605804-6e29-4d95-ac76-a459923a0e6a",
   "metadata": {
    "executionCancelledAt": null,
    "executionTime": 18,
    "lastExecutedAt": 1758120885251,
    "lastExecutedByKernel": "aac40e60-7a7d-49ff-b3c5-015a4e20652d",
    "lastScheduledRunId": null,
    "lastSuccessfullyExecutedCode": "women_results_df.info()",
    "outputsMetadata": {
     "0": {
      "height": 500,
      "tableState": {},
      "type": "dataFrame"
     }
    }
   },
   "outputs": [
    {
     "name": "stdout",
     "output_type": "stream",
     "text": [
      "<class 'pandas.core.frame.DataFrame'>\n",
      "Index: 4884 entries, 0 to 4883\n",
      "Data columns (total 6 columns):\n",
      " #   Column      Non-Null Count  Dtype \n",
      "---  ------      --------------  ----- \n",
      " 0   date        4884 non-null   object\n",
      " 1   home_team   4884 non-null   object\n",
      " 2   away_team   4884 non-null   object\n",
      " 3   home_score  4884 non-null   int64 \n",
      " 4   away_score  4884 non-null   int64 \n",
      " 5   tournament  4884 non-null   object\n",
      "dtypes: int64(2), object(4)\n",
      "memory usage: 267.1+ KB\n"
     ]
    }
   ],
   "source": [
    "women_results_df.info()"
   ]
  },
  {
   "cell_type": "code",
   "execution_count": 80,
   "id": "6072e27b-cc31-44ce-ac8b-1941e11aa08d",
   "metadata": {
    "executionCancelledAt": null,
    "executionTime": 2683,
    "lastExecutedAt": 1758120992054,
    "lastExecutedByKernel": "aac40e60-7a7d-49ff-b3c5-015a4e20652d",
    "lastScheduledRunId": null,
    "lastSuccessfullyExecutedCode": "men_results_df[\"date\"] = men_results_df[\"date\"].to_date_time()"
   },
   "outputs": [],
   "source": [
    "men_results_df[\"date\"] = pd.to_datetime(men_results_df[\"date\"])\n",
    "women_results_df[\"date\"] = pd.to_datetime(women_results_df[\"date\"])\n",
    "\n",
    "men_results_df[\"total_score\"] = men_results_df[\"home_score\"] + men_results_df[\"away_score\"]\n",
    "women_results_df[\"total_score\"] = women_results_df[\"home_score\"] + women_results_df[\"away_score\"]"
   ]
  },
  {
   "cell_type": "code",
   "execution_count": 82,
   "id": "5d778488-5dfc-4814-b3d2-c223179e0927",
   "metadata": {},
   "outputs": [],
   "source": [
    "men_results_2002_plus = men_results_df.loc[(men_results_df[\"date\"] > \"2002-01-01\") & (men_results_df[\"tournament\"] == \"FIFA World Cup\")]\n",
    "women_results_2002_plus = women_results_df.loc[(women_results_df[\"date\"] > \"2002-01-01\") & (women_results_df[\"tournament\"] == \"FIFA World Cup\")]\n"
   ]
  },
  {
   "cell_type": "code",
   "execution_count": 83,
   "id": "a9df158f",
   "metadata": {},
   "outputs": [
    {
     "name": "stdout",
     "output_type": "stream",
     "text": [
      "{'p_value': 0.0051961448009743005, 'result': 'reject'}\n"
     ]
    }
   ],
   "source": [
    "results = pingouin.ttest(y = men_results_2002_plus[\"total_score\"], x = women_results_2002_plus[\"total_score\"], alternative=\"two-sided\", paired=False)\n",
    "\n",
    "result_dict = {\n",
    "    \"p_value\": float(results[\"p-val\"].iloc[0]),\n",
    "    \"result\": \"reject\" if results[\"p-val\"].iloc[0] < alpha else \"fail to reject\"\n",
    "}\n",
    "print(result_dict)"
   ]
  }
 ],
 "metadata": {
  "colab": {
   "name": "Welcome to DataCamp Workspaces.ipynb",
   "provenance": []
  },
  "kernelspec": {
   "display_name": ".venv",
   "language": "python",
   "name": "python3"
  },
  "language_info": {
   "codemirror_mode": {
    "name": "ipython",
    "version": 3
   },
   "file_extension": ".py",
   "mimetype": "text/x-python",
   "name": "python",
   "nbconvert_exporter": "python",
   "pygments_lexer": "ipython3",
   "version": "3.13.7"
  }
 },
 "nbformat": 4,
 "nbformat_minor": 5
}
