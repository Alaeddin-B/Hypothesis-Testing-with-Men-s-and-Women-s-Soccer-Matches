{
 "cells": [
  {
   "cell_type": "markdown",
   "id": "3ed0edb2-696b-49ab-9db0-681defcce695",
   "metadata": {},
   "source": [
    "![A soccer pitch for an international match.](soccer-pitch.jpg)\n",
    "\n",
    "\n",
    "# Investigating Goal Scoring in Men's vs. Women's FIFA World Cup Matches\n",
    "\n",
    "\n",
    "As a sports journalist specializing in soccer analysis, you are investigating whether more goals are scored in women's international soccer matches than men's. Your hypothesis is based on years of observation, but you need statistical evidence to support your claim.\n",
    "\n",
    "\n",
    "## Project Scope\n",
    "\n",
    "\n",
    "- **Data:** Official FIFA World Cup matches (excluding qualifiers) since 2002-01-01.\n",
    "- **Files:** `women_results.csv` and `men_results.csv` contain match results for women's and men's international football, respectively.\n",
    "- **Assumption:** Each match is independent (team form is ignored).\n",
    "\n",
    "\n",
    "## Research Question\n",
    "\n",
    "\n",
    "> Are more goals scored in women's international soccer matches than men's?\n",
    "\n",
    "\n",
    "## Hypotheses\n",
    "\n",
    "\n",
    "- $H_0$: The mean number of goals scored in women's international soccer matches is the same as men's.\n",
    "- $H_A$: The mean number of goals scored in women's international soccer matches is greater than men's.\n",
    "\n",
    "\n",
    "## Significance Level\n",
    "\n",
    "\n",
    "- $\\alpha = 0.10$ (10%)\n",
    "\n",
    "\n",
    "---"
   ]
  },
  {
   "cell_type": "markdown",
   "id": "8a70be7b",
   "metadata": {},
   "source": [
    "## Data Extraction and Inspection"
   ]
  },
  {
   "cell_type": "code",
   "execution_count": null,
   "id": "84a3c4c8-534b-4d1a-9919-17e05208b2ca",
   "metadata": {
    "executionCancelledAt": null,
    "executionTime": 86,
    "lastExecutedAt": 1758120882501,
    "lastExecutedByKernel": "aac40e60-7a7d-49ff-b3c5-015a4e20652d",
    "lastScheduledRunId": null,
    "lastSuccessfullyExecutedCode": "# Start your code here!\nimport pandas as pd\nmen_results_df = pd.read_csv(\"men_results.csv\")\nwomen_results_df = pd.read_csv(\"women_results.csv\")\n\nmen_results_df.info()",
    "outputsMetadata": {
     "0": {
      "height": 500,
      "tableState": {},
      "type": "dataFrame"
     }
    }
   },
   "outputs": [
    {
     "name": "stdout",
     "output_type": "stream",
     "text": [
      "         date home_team away_team  home_score  away_score tournament\n",
      "0  1872-11-30  Scotland   England           0           0   Friendly\n",
      "1  1873-03-08   England  Scotland           4           2   Friendly\n",
      "2  1874-03-07  Scotland   England           2           1   Friendly\n",
      "3  1875-03-06   England  Scotland           2           2   Friendly\n",
      "4  1876-03-04  Scotland   England           3           0   Friendly\n",
      "         date home_team  away_team  home_score  away_score        tournament\n",
      "0  1969-11-01     Italy     France           1           0              Euro\n",
      "1  1969-11-01   Denmark    England           4           3              Euro\n",
      "2  1969-11-02   England     France           2           0              Euro\n",
      "3  1969-11-02     Italy    Denmark           3           1              Euro\n",
      "4  1975-08-25  Thailand  Australia           3           2  AFC Championship\n"
     ]
    }
   ],
   "source": [
    "# Import required libraries and load the datasets\n",
    "import pandas as pd\n",
    "import pingouin\n",
    "\n",
    "# Set significance level\n",
    "alpha = 0.1\n",
    "\n",
    "# Load men's and women's results data\n",
    "men_results_df = pd.read_csv(\"men_results.csv\", index_col=0)\n",
    "women_results_df = pd.read_csv(\"women_results.csv\", index_col=0)\n",
    "\n",
    "# Preview the first few rows of the men's dataset\n",
    "men_results_df.head()"
   ]
  },
  {
   "cell_type": "code",
   "execution_count": null,
   "id": "97d8309c",
   "metadata": {},
   "outputs": [
    {
     "name": "stdout",
     "output_type": "stream",
     "text": [
      "<class 'pandas.core.frame.DataFrame'>\n",
      "Index: 44353 entries, 0 to 44352\n",
      "Data columns (total 6 columns):\n",
      " #   Column      Non-Null Count  Dtype \n",
      "---  ------      --------------  ----- \n",
      " 0   date        44353 non-null  object\n",
      " 1   home_team   44353 non-null  object\n",
      " 2   away_team   44353 non-null  object\n",
      " 3   home_score  44353 non-null  int64 \n",
      " 4   away_score  44353 non-null  int64 \n",
      " 5   tournament  44353 non-null  object\n",
      "dtypes: int64(2), object(4)\n",
      "memory usage: 2.4+ MB\n"
     ]
    }
   ],
   "source": [
    "# Check the structure and data types of the men's dataset\n",
    "men_results_df.info()"
   ]
  },
  {
   "cell_type": "code",
   "execution_count": null,
   "id": "15605804-6e29-4d95-ac76-a459923a0e6a",
   "metadata": {
    "executionCancelledAt": null,
    "executionTime": 18,
    "lastExecutedAt": 1758120885251,
    "lastExecutedByKernel": "aac40e60-7a7d-49ff-b3c5-015a4e20652d",
    "lastScheduledRunId": null,
    "lastSuccessfullyExecutedCode": "women_results_df.info()",
    "outputsMetadata": {
     "0": {
      "height": 500,
      "tableState": {},
      "type": "dataFrame"
     }
    }
   },
   "outputs": [
    {
     "name": "stdout",
     "output_type": "stream",
     "text": [
      "<class 'pandas.core.frame.DataFrame'>\n",
      "Index: 4884 entries, 0 to 4883\n",
      "Data columns (total 6 columns):\n",
      " #   Column      Non-Null Count  Dtype \n",
      "---  ------      --------------  ----- \n",
      " 0   date        4884 non-null   object\n",
      " 1   home_team   4884 non-null   object\n",
      " 2   away_team   4884 non-null   object\n",
      " 3   home_score  4884 non-null   int64 \n",
      " 4   away_score  4884 non-null   int64 \n",
      " 5   tournament  4884 non-null   object\n",
      "dtypes: int64(2), object(4)\n",
      "memory usage: 267.1+ KB\n"
     ]
    }
   ],
   "source": [
    "# Check the structure and data types of the women's dataset\n",
    "women_results_df.info()"
   ]
  },
  {
   "cell_type": "markdown",
   "id": "399c4e48",
   "metadata": {},
   "source": [
    "## Data Preprocessing"
   ]
  },
  {
   "cell_type": "code",
   "execution_count": null,
   "id": "6072e27b-cc31-44ce-ac8b-1941e11aa08d",
   "metadata": {
    "executionCancelledAt": null,
    "executionTime": 2683,
    "lastExecutedAt": 1758120992054,
    "lastExecutedByKernel": "aac40e60-7a7d-49ff-b3c5-015a4e20652d",
    "lastScheduledRunId": null,
    "lastSuccessfullyExecutedCode": "men_results_df[\"date\"] = men_results_df[\"date\"].to_date_time()"
   },
   "outputs": [],
   "source": [
    "# Convert the 'date' columns to datetime and calculate total goals per match\n",
    "men_results_df[\"date\"] = pd.to_datetime(men_results_df[\"date\"])\n",
    "women_results_df[\"date\"] = pd.to_datetime(women_results_df[\"date\"])\n",
    "\n",
    "# Calculate total goals scored in each match\n",
    "men_results_df[\"total_score\"] = men_results_df[\"home_score\"] + men_results_df[\"away_score\"]\n",
    "women_results_df[\"total_score\"] = women_results_df[\"home_score\"] + women_results_df[\"away_score\"]"
   ]
  },
  {
   "cell_type": "code",
   "execution_count": null,
   "id": "5d778488-5dfc-4814-b3d2-c223179e0927",
   "metadata": {},
   "outputs": [],
   "source": [
    "# Filter for official FIFA World Cup matches since 2002-01-01\n",
    "men_results_2002_plus = men_results_df.loc[men_results_df[\"date\"] >= \"2002-01-01\"]\n",
    "women_results_2002_plus = women_results_df.loc[women_results_df[\"date\"] >= \"2002-01-01\"]"
   ]
  },
  {
   "cell_type": "markdown",
   "id": "a869f514",
   "metadata": {},
   "source": [
    "## Hypothesis Testing"
   ]
  },
  {
   "cell_type": "code",
   "execution_count": null,
   "id": "a9df158f",
   "metadata": {},
   "outputs": [
    {
     "name": "stdout",
     "output_type": "stream",
     "text": [
      "{'p_value': 0.0051961448009743005, 'result': 'reject'}\n"
     ]
    }
   ],
   "source": [
    "# Perform a one-sided (greater) independent t-test to compare means\n",
    "results = pingouin.ttest(\n",
    "    x=women_results_2002_plus[\"total_score\"],\n",
    "    y=men_results_2002_plus[\"total_score\"],\n",
    "    alternative=\"greater\",\n",
    "    paired=False\n",
    " )\n",
    "\n",
    "# Extract p-value and test result\n",
    "p_val = float(results[\"p-val\"].iloc[0])\n",
    "result = \"reject\" if p_val < alpha else \"fail to reject\"\n",
    "\n",
    "# Store results in a dictionary as required\n",
    "result_dict = {\"p_val\": p_val, \"result\": result}\n",
    "\n",
    "print(result_dict)"
   ]
  },
  {
   "cell_type": "markdown",
   "id": "d1102349",
   "metadata": {},
   "source": [
    "---\n",
    "\n",
    "## Conclusion\n",
    "\n",
    "\n",
    "- **p-value:** The probability of observing the data (or more extreme) under the null hypothesis.\n",
    "- **Test Result:** If the p-value is less than the significance level ($\\alpha = 0.10$), we reject the null hypothesis in favor of the alternative.\n",
    "\n",
    "\n",
    "Interpret the result in the context of the research question:\n",
    "\n",
    "- If `result_dict[\"result\"]` is \"reject\", there is statistical evidence at the 10% significance level that more goals are scored in women's international soccer matches than men's (since 2002, FIFA World Cup only).\n",
    "\n",
    "- If `result_dict[\"result\"]` is \"fail to reject\", there is not enough evidence to support that claim at the 10% significance level."
   ]
  }
 ],
 "metadata": {
  "colab": {
   "name": "Welcome to DataCamp Workspaces.ipynb",
   "provenance": []
  },
  "kernelspec": {
   "display_name": ".venv",
   "language": "python",
   "name": "python3"
  },
  "language_info": {
   "codemirror_mode": {
    "name": "ipython",
    "version": 3
   },
   "file_extension": ".py",
   "mimetype": "text/x-python",
   "name": "python",
   "nbconvert_exporter": "python",
   "pygments_lexer": "ipython3",
   "version": "3.13.7"
  }
 },
 "nbformat": 4,
 "nbformat_minor": 5
}
